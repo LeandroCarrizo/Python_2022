{
 "cells": [
  {
   "cell_type": "code",
   "execution_count": 7,
   "id": "1e115960",
   "metadata": {},
   "outputs": [],
   "source": [
    "archivo_eval1 = open(\"eval1.txt\", encoding=\"utf-8\")\n",
    "archivo_eval2 = open(\"eval2.txt\", encoding=\"utf-8\")\n",
    "archivo_nombres = open(\"nombres_1.txt\", encoding=\"utf-8\")\n",
    "\n",
    "eval1 = archivo_eval1.read().split(\",\")\n",
    "eval2 = archivo_eval2.read().split(\",\")\n",
    "nombres = archivo_nombres.read().split(\",\")"
   ]
  },
  {
   "cell_type": "markdown",
   "id": "1698f54e",
   "metadata": {},
   "source": [
    "**Se leen los archivos y se crean variables asociadas a listas definidas a partir de la información separada por \",\" en los archivos.**"
   ]
  },
  {
   "cell_type": "code",
   "execution_count": 8,
   "id": "9e8cc20e",
   "metadata": {},
   "outputs": [],
   "source": [
    "calificaciones = []\n",
    "suma = 0\n",
    "\n",
    "for i in range(len(nombres)):\n",
    "    alumno = {\"nombre\" : nombres[i].strip(\"\\n '\"), \"nota_final\" : int(eval1[i]) + int(eval2[i])}\n",
    "    suma += alumno[\"nota_final\"]\n",
    "    calificaciones.append(alumno)\n",
    "    \n",
    " \n",
    "    "
   ]
  },
  {
   "cell_type": "markdown",
   "id": "1061ac21",
   "metadata": {},
   "source": [
    "**Se crea la variable donde se almacenarán los nombres junto con las notas y la variable donde se sumarán todas las notas para posteriormente calcular el promedio. Dentro del for se crea un diccionario por cada alumno (cada diccionario contiene nombre y suma de las dos notas) y cada diccionario se añade a la lista \"calificaciones\". Además se van sumando todas las notas en la variable \"suma\".**"
   ]
  },
  {
   "cell_type": "code",
   "execution_count": 18,
   "id": "3f8bda8c",
   "metadata": {},
   "outputs": [
    {
     "name": "stdout",
     "output_type": "stream",
     "text": [
      "Promedio = 96.19148936170212\n",
      "Calificaciones: [{'nombre': 'Agustin', 'nota_final': 111}, {'nombre': 'Alan', 'nota_final': 155}, {'nombre': 'Andrés', 'nota_final': 100}, {'nombre': 'Ariadna', 'nota_final': 108}, {'nombre': 'Bautista', 'nota_final': 99}, {'nombre': 'CAROLINA', 'nota_final': 134}, {'nombre': 'CESAR', 'nota_final': 78}, {'nombre': 'David', 'nota_final': 121}, {'nombre': 'Diego', 'nota_final': 33}, {'nombre': 'Dolores', 'nota_final': 53}, {'nombre': 'DYLAN', 'nota_final': 74}, {'nombre': 'ELIANA', 'nota_final': 13}, {'nombre': 'Emanuel', 'nota_final': 48}, {'nombre': 'Fabián', 'nota_final': 101}, {'nombre': 'Facundo', 'nota_final': 106}, {'nombre': 'Facundo', 'nota_final': 128}, {'nombre': 'FEDERICO', 'nota_final': 97}, {'nombre': 'FEDERICO', 'nota_final': 106}, {'nombre': 'GONZALO', 'nota_final': 76}, {'nombre': 'Gregorio', 'nota_final': 90}, {'nombre': 'Ignacio', 'nota_final': 21}, {'nombre': 'Jonathan', 'nota_final': 173}, {'nombre': 'Jonathan', 'nota_final': 62}, {'nombre': 'Jorge', 'nota_final': 79}, {'nombre': 'JOSE', 'nota_final': 100}, {'nombre': 'JUAN', 'nota_final': 68}, {'nombre': 'Juan', 'nota_final': 142}, {'nombre': 'Juan', 'nota_final': 112}, {'nombre': 'Julian', 'nota_final': 87}, {'nombre': 'Julieta', 'nota_final': 146}, {'nombre': 'LAUTARO', 'nota_final': 148}, {'nombre': 'Leonel', 'nota_final': 55}, {'nombre': 'LUIS', 'nota_final': 140}, {'nombre': 'Luis', 'nota_final': 109}, {'nombre': 'Marcos', 'nota_final': 103}, {'nombre': 'María', 'nota_final': 110}, {'nombre': 'MATEO', 'nota_final': 137}, {'nombre': 'Matias', 'nota_final': 114}, {'nombre': 'Nicolás', 'nota_final': 65}, {'nombre': 'NICOLÁS', 'nota_final': 22}, {'nombre': 'Noelia', 'nota_final': 105}, {'nombre': 'Pablo', 'nota_final': 99}, {'nombre': 'Priscila', 'nota_final': 24}, {'nombre': 'TOMAS', 'nota_final': 139}, {'nombre': 'Tomás', 'nota_final': 126}, {'nombre': 'Ulises', 'nota_final': 120}, {'nombre': 'Yanina', 'nota_final': 84}]\n",
      "Desaprobados: ['CESAR', 'Diego', 'Dolores', 'DYLAN', 'ELIANA', 'Emanuel', 'GONZALO', 'Gregorio', 'Ignacio', 'Jonathan', 'Jorge', 'JUAN', 'Julian', 'Leonel', 'Nicolás', 'NICOLÁS', 'Priscila', 'Yanina']\n"
     ]
    }
   ],
   "source": [
    "promedio = suma / len(nombres)    \n",
    "desaprobados = []\n",
    "for i in range(len(nombres)):\n",
    "    if calificaciones[i][\"nota_final\"]  < promedio:\n",
    "        desaprobados.append(calificaciones[i][\"nombre\"])\n",
    "        \n",
    "print(f\"Promedio = {promedio}\")        \n",
    "print(f\"Calificaciones: {calificaciones}\")   \n",
    "print(f\"Desaprobados: {desaprobados}\")  "
   ]
  },
  {
   "cell_type": "markdown",
   "id": "6c6efb6e",
   "metadata": {},
   "source": [
    "**Se calcula el promedio, se crea una variable de tipo lista para almacenar los nombres de los alumnos desaprobados. Dentro del for se compara la calificacion de cada alumno con el promedio y se añade a la lista desaprobados los que tienen calificacion inferior al promedio. Finalmente se imprimen las estructuras resultantes.**"
   ]
  },
  {
   "cell_type": "code",
   "execution_count": null,
   "id": "ef861712",
   "metadata": {},
   "outputs": [],
   "source": []
  }
 ],
 "metadata": {
  "kernelspec": {
   "display_name": "Python 3 (ipykernel)",
   "language": "python",
   "name": "python3"
  },
  "language_info": {
   "codemirror_mode": {
    "name": "ipython",
    "version": 3
   },
   "file_extension": ".py",
   "mimetype": "text/x-python",
   "name": "python",
   "nbconvert_exporter": "python",
   "pygments_lexer": "ipython3",
   "version": "3.10.2"
  }
 },
 "nbformat": 4,
 "nbformat_minor": 5
}
